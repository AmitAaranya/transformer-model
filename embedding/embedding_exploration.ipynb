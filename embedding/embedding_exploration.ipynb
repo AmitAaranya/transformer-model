{
  "nbformat": 4,
  "nbformat_minor": 0,
  "metadata": {
    "colab": {
      "private_outputs": true,
      "provenance": [],
      "authorship_tag": "ABX9TyMPJVX44oGdhmLuZ5jTenOT",
      "include_colab_link": true
    },
    "kernelspec": {
      "name": "python3",
      "display_name": "Python 3"
    },
    "language_info": {
      "name": "python"
    }
  },
  "cells": [
    {
      "cell_type": "markdown",
      "metadata": {
        "id": "view-in-github",
        "colab_type": "text"
      },
      "source": [
        "<a href=\"https://colab.research.google.com/github/AmitAaranya/transformer-model/blob/main/embedding/embedding_exploration.ipynb\" target=\"_parent\"><img src=\"https://colab.research.google.com/assets/colab-badge.svg\" alt=\"Open In Colab\"/></a>"
      ]
    },
    {
      "cell_type": "markdown",
      "source": [
        "### ***ToDo:***\n",
        "1. Understanding of Transformer Model\n",
        "2. Explore pre-trained embedding model\n",
        "3. Explore on Fine-Tunning the model\n",
        "4. Data Preparation\n"
      ],
      "metadata": {
        "id": "j_8uZsC1vP3L"
      }
    },
    {
      "cell_type": "code",
      "execution_count": null,
      "metadata": {
        "id": "dYPFPoDYugvh"
      },
      "outputs": [],
      "source": []
    }
  ]
}